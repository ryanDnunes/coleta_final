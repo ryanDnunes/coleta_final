{
 "cells": [
  {
   "cell_type": "code",
   "execution_count": 3,
   "metadata": {},
   "outputs": [
    {
     "name": "stdout",
     "output_type": "stream",
     "text": [
      "Note: you may need to restart the kernel to use updated packages.\n"
     ]
    },
    {
     "name": "stderr",
     "output_type": "stream",
     "text": [
      "ERROR: unknown command \"intall\" - maybe you meant \"install\"\n",
      "\n"
     ]
    }
   ],
   "source": [
    "pip intall pandas"
   ]
  },
  {
   "cell_type": "code",
   "execution_count": 6,
   "metadata": {},
   "outputs": [],
   "source": [
    "import pandas as pd"
   ]
  },
  {
   "cell_type": "code",
   "execution_count": 5,
   "metadata": {},
   "outputs": [
    {
     "name": "stdout",
     "output_type": "stream",
     "text": [
      "Colunas disponíveis no arquivo CSV:\n",
      "Index(['DT_GERACAO;\"HH_GERACAO\";\"AA_ELEICAO\";\"NR_TURNO\";\"SG_UF\";\"CD_MUNICIPIO\";\"NM_MUNICIPIO\";\"NR_ZONA\";\"CD_GENERO\";\"DS_GENERO\";\"CD_ESTADO_CIVIL\";\"DS_ESTADO_CIVIL\";\"CD_FAIXA_ETARIA\";\"DS_FAIXA_ETARIA\";\"CD_GRAU_ESCOLARIDADE\";\"DS_GRAU_ESCOLARIDADE\";\"TP_CONVOCACAO\";\"TP_COMPARECIMENTO\";\"QT_MESARIOS_PERFIL\"'], dtype='object')\n"
     ]
    }
   ],
   "source": [
    "\n",
    "\n",
    "#verificar as colunas para pegar o nome certo \n",
    "arquivo = \"mesario/convocacao_mesarios_2022/convocacao_mesarios_2022_DF.csv\"\n",
    "\n",
    "df = pd.read_csv(arquivo, encoding='latin1')  # ou 'ISO-8859-1', caso necessário\n",
    "print(\"Colunas disponíveis no arquivo CSV:\")\n",
    "print(df.columns)\n"
   ]
  },
  {
   "cell_type": "code",
   "execution_count": 17,
   "metadata": {},
   "outputs": [
    {
     "name": "stdout",
     "output_type": "stream",
     "text": [
      "45 a 49 anos (4549)\n",
      "40 a 44 anos (4044)\n",
      "55 a 59 anos (5559)\n",
      "25 a 29 anos (2529)\n",
      "35 a 39 anos (3539)\n",
      "50 a 54 anos (5054)\n",
      "30 a 34 anos (3034)\n",
      "60 a 64 anos (6064)\n",
      "21 a 24 anos (2124)\n",
      "20 anos (2000)\n",
      "65 a 69 anos (6569)\n",
      "19 anos (1900)\n",
      "70 a 74 anos (7074)\n",
      "18 anos (1800)\n",
      "75 a 79 anos (7579)\n",
      "80 a 84 anos (8084)\n"
     ]
    },
    {
     "data": {
      "text/plain": [
       "'\\n45 a 49 anos (4549)\\n40 a 44 anos (4044)\\n55 a 59 anos (5559)\\n25 a 29 anos (2529)\\n35 a 39 anos (3539)\\n50 a 54 anos (5054)\\n30 a 34 anos (3034)\\n60 a 64 anos (6064)\\n21 a 24 anos (2124)\\n20 anos (2000)\\n65 a 69 anos (6569)\\n19 anos (1900)\\n70 a 74 anos (7074)\\n18 anos (1800)\\n75 a 79 anos (7579)\\n80 a 84 anos (8084)\\n'"
      ]
     },
     "execution_count": 17,
     "metadata": {},
     "output_type": "execute_result"
    }
   ],
   "source": [
    "arquivo = \"mesario/convocacao_mesarios_2022/convocacao_mesarios_2022_DF.csv\"\n",
    "df = pd.read_csv(arquivo, delimiter=';', encoding='latin1')\n",
    "faixa_etaria = df['DS_FAIXA_ETARIA'] + ' (' + df['CD_FAIXA_ETARIA'].astype(str) + ')'\n",
    "faixa_etaria = faixa_etaria.drop_duplicates()\n",
    "faixa_etaria=faixa_etaria.or\n",
    "for faixa in faixa_etaria:\n",
    "    print(faixa)\n",
    "\n",
    "\n",
    "\n",
    "\"\"\"\n",
    "80 a 84 anos (8084)\n",
    "75 a 79 anos (7579)\n",
    "70 a 74 anos (7074)\n",
    "65 a 69 anos (6569)\n",
    "60 a 64 anos (6064)\n",
    "55 a 59 anos (5559)\n",
    "50 a 54 anos (5054)\n",
    "45 a 49 anos (4549)\n",
    "40 a 44 anos (4044)\n",
    "35 a 39 anos (3539)\n",
    "30 a 34 anos (3034)\n",
    "25 a 29 anos (2529)\n",
    "21 a 24 anos (2124)\n",
    "20 anos (2000)\n",
    "19 anos (1900)\n",
    "18 anos (1800)\n",
    "\n",
    "CLASSIFICAÇÃO:\n",
    "18 a 29 novo (1800 até 2529)\n",
    "30 a 49 adulto (3034, 4549)\n",
    "50 a 69 maduro (5054, 6569)\n",
    "70 até 84 idoso (7074, 8084)\n",
    "\"\"\"\n",
    "\n"
   ]
  },
  {
   "cell_type": "code",
   "execution_count": 18,
   "metadata": {},
   "outputs": [
    {
     "name": "stdout",
     "output_type": "stream",
     "text": [
      "18 a 29 novo (1800 até 2529): 1368\n",
      "30 a 49 adulto (3034 até 4549): 4471\n",
      "50 a 69 maduro (5054 até 6569): 2504\n",
      "70 até 84 idoso (7074 até 8084): 84\n"
     ]
    }
   ],
   "source": [
    "#vamos percorrer o csv\n",
    "#vai pega todos os CD_FAIXA_ETARIA no intervalo de (1800 até 2529) e retorne o (1800 até 2529) com a quantidade encontrada (fazer para todos os intervalos abaixo)\n",
    "\"\"\"\n",
    "CLASSIFICAÇÃO:\n",
    "18 a 29 novo (1800 até 2529)\n",
    "30 a 49 adulto (3034, 4549)\n",
    "50 a 69 maduro (5054, 6569)\n",
    "70 até 84 idoso (7074, 8084)\n",
    "\"\"\"\n",
    "arquivo = \"mesario/convocacao_mesarios_2022/convocacao_mesarios_2022_DF.csv\"\n",
    "df = pd.read_csv(arquivo, delimiter=';', encoding='latin1')\n",
    "\n",
    "# intervalos\n",
    "intervalos = {\n",
    "    '18 a 29 novo': (1800, 2529),\n",
    "    '30 a 49 adulto': (3034, 4549),\n",
    "    '50 a 69 maduro': (5054, 6569),\n",
    "    '70 até 84 idoso': (7074, 8084)\n",
    "}\n",
    "\n",
    "# Função para contar registros dentro de um intervalo\n",
    "def contar_registros_intervalo(df, intervalo):\n",
    "    inicio, fim = intervalos[intervalo]\n",
    "    # Filtrar e contar os registros dentro do intervalo\n",
    "    filtro = df[(df['CD_FAIXA_ETARIA'] >= inicio) & (df['CD_FAIXA_ETARIA'] <= fim)]\n",
    "    quantidade = len(filtro)\n",
    "    return quantidade\n",
    "\n",
    "# Iterar sobre os intervalos e imprimir os resultados\n",
    "for intervalo, limites in intervalos.items():\n",
    "    quantidade = contar_registros_intervalo(df, intervalo)\n",
    "    print(f\"{intervalo} ({limites[0]} até {limites[1]}): {quantidade}\")\n"
   ]
  }
 ],
 "metadata": {
  "kernelspec": {
   "display_name": "base",
   "language": "python",
   "name": "python3"
  },
  "language_info": {
   "codemirror_mode": {
    "name": "ipython",
    "version": 3
   },
   "file_extension": ".py",
   "mimetype": "text/x-python",
   "name": "python",
   "nbconvert_exporter": "python",
   "pygments_lexer": "ipython3",
   "version": "3.12.4"
  }
 },
 "nbformat": 4,
 "nbformat_minor": 2
}
